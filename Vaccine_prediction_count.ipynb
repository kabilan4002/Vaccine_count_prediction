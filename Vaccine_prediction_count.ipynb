{
 "cells": [
  {
   "cell_type": "code",
   "execution_count": 1,
   "id": "b0db2c48",
   "metadata": {},
   "outputs": [],
   "source": [
    "import os\n",
    "import pandas as pd\n",
    "import numpy as np\n",
    "import matplotlib.pyplot as plt\n",
    "import seaborn as sns\n",
    "from sklearn.model_selection import train_test_split\n",
    "from sklearn import metrics\n",
    "from sklearn.linear_model import LogisticRegression"
   ]
  },
  {
   "cell_type": "code",
   "execution_count": 2,
   "id": "f8e34c36",
   "metadata": {},
   "outputs": [
    {
     "data": {
      "text/html": [
       "<div>\n",
       "<style scoped>\n",
       "    .dataframe tbody tr th:only-of-type {\n",
       "        vertical-align: middle;\n",
       "    }\n",
       "\n",
       "    .dataframe tbody tr th {\n",
       "        vertical-align: top;\n",
       "    }\n",
       "\n",
       "    .dataframe thead th {\n",
       "        text-align: right;\n",
       "    }\n",
       "</style>\n",
       "<table border=\"1\" class=\"dataframe\">\n",
       "  <thead>\n",
       "    <tr style=\"text-align: right;\">\n",
       "      <th></th>\n",
       "      <th>unique_id</th>\n",
       "      <th>h1n1_worry</th>\n",
       "      <th>h1n1_awareness</th>\n",
       "      <th>antiviral_medication</th>\n",
       "      <th>contact_avoidance</th>\n",
       "      <th>bought_face_mask</th>\n",
       "      <th>wash_hands_frequently</th>\n",
       "      <th>avoid_large_gatherings</th>\n",
       "      <th>reduced_outside_home_cont</th>\n",
       "      <th>avoid_touch_face</th>\n",
       "      <th>...</th>\n",
       "      <th>race</th>\n",
       "      <th>sex</th>\n",
       "      <th>income_level</th>\n",
       "      <th>marital_status</th>\n",
       "      <th>housing_status</th>\n",
       "      <th>employment</th>\n",
       "      <th>census_msa</th>\n",
       "      <th>no_of_adults</th>\n",
       "      <th>no_of_children</th>\n",
       "      <th>h1n1_vaccine</th>\n",
       "    </tr>\n",
       "  </thead>\n",
       "  <tbody>\n",
       "    <tr>\n",
       "      <th>0</th>\n",
       "      <td>0</td>\n",
       "      <td>1.0</td>\n",
       "      <td>0.0</td>\n",
       "      <td>0.0</td>\n",
       "      <td>0.0</td>\n",
       "      <td>0.0</td>\n",
       "      <td>0.0</td>\n",
       "      <td>0.0</td>\n",
       "      <td>1.0</td>\n",
       "      <td>1.0</td>\n",
       "      <td>...</td>\n",
       "      <td>White</td>\n",
       "      <td>Female</td>\n",
       "      <td>Below Poverty</td>\n",
       "      <td>Not Married</td>\n",
       "      <td>Own</td>\n",
       "      <td>Not in Labor Force</td>\n",
       "      <td>Non-MSA</td>\n",
       "      <td>0.0</td>\n",
       "      <td>0.0</td>\n",
       "      <td>0</td>\n",
       "    </tr>\n",
       "    <tr>\n",
       "      <th>1</th>\n",
       "      <td>1</td>\n",
       "      <td>3.0</td>\n",
       "      <td>2.0</td>\n",
       "      <td>0.0</td>\n",
       "      <td>1.0</td>\n",
       "      <td>0.0</td>\n",
       "      <td>1.0</td>\n",
       "      <td>0.0</td>\n",
       "      <td>1.0</td>\n",
       "      <td>1.0</td>\n",
       "      <td>...</td>\n",
       "      <td>White</td>\n",
       "      <td>Male</td>\n",
       "      <td>Below Poverty</td>\n",
       "      <td>Not Married</td>\n",
       "      <td>Rent</td>\n",
       "      <td>Employed</td>\n",
       "      <td>MSA, Not Principle  City</td>\n",
       "      <td>0.0</td>\n",
       "      <td>0.0</td>\n",
       "      <td>0</td>\n",
       "    </tr>\n",
       "    <tr>\n",
       "      <th>2</th>\n",
       "      <td>2</td>\n",
       "      <td>1.0</td>\n",
       "      <td>1.0</td>\n",
       "      <td>0.0</td>\n",
       "      <td>1.0</td>\n",
       "      <td>0.0</td>\n",
       "      <td>0.0</td>\n",
       "      <td>0.0</td>\n",
       "      <td>0.0</td>\n",
       "      <td>0.0</td>\n",
       "      <td>...</td>\n",
       "      <td>White</td>\n",
       "      <td>Male</td>\n",
       "      <td>&lt;= $75,000, Above Poverty</td>\n",
       "      <td>Not Married</td>\n",
       "      <td>Own</td>\n",
       "      <td>Employed</td>\n",
       "      <td>MSA, Not Principle  City</td>\n",
       "      <td>2.0</td>\n",
       "      <td>0.0</td>\n",
       "      <td>0</td>\n",
       "    </tr>\n",
       "    <tr>\n",
       "      <th>3</th>\n",
       "      <td>3</td>\n",
       "      <td>1.0</td>\n",
       "      <td>1.0</td>\n",
       "      <td>0.0</td>\n",
       "      <td>1.0</td>\n",
       "      <td>0.0</td>\n",
       "      <td>1.0</td>\n",
       "      <td>1.0</td>\n",
       "      <td>0.0</td>\n",
       "      <td>0.0</td>\n",
       "      <td>...</td>\n",
       "      <td>White</td>\n",
       "      <td>Female</td>\n",
       "      <td>Below Poverty</td>\n",
       "      <td>Not Married</td>\n",
       "      <td>Rent</td>\n",
       "      <td>Not in Labor Force</td>\n",
       "      <td>MSA, Principle City</td>\n",
       "      <td>0.0</td>\n",
       "      <td>0.0</td>\n",
       "      <td>0</td>\n",
       "    </tr>\n",
       "    <tr>\n",
       "      <th>4</th>\n",
       "      <td>4</td>\n",
       "      <td>2.0</td>\n",
       "      <td>1.0</td>\n",
       "      <td>0.0</td>\n",
       "      <td>1.0</td>\n",
       "      <td>0.0</td>\n",
       "      <td>1.0</td>\n",
       "      <td>1.0</td>\n",
       "      <td>0.0</td>\n",
       "      <td>1.0</td>\n",
       "      <td>...</td>\n",
       "      <td>White</td>\n",
       "      <td>Female</td>\n",
       "      <td>&lt;= $75,000, Above Poverty</td>\n",
       "      <td>Married</td>\n",
       "      <td>Own</td>\n",
       "      <td>Employed</td>\n",
       "      <td>MSA, Not Principle  City</td>\n",
       "      <td>1.0</td>\n",
       "      <td>0.0</td>\n",
       "      <td>0</td>\n",
       "    </tr>\n",
       "  </tbody>\n",
       "</table>\n",
       "<p>5 rows × 34 columns</p>\n",
       "</div>"
      ],
      "text/plain": [
       "   unique_id  h1n1_worry  h1n1_awareness  antiviral_medication  \\\n",
       "0          0         1.0             0.0                   0.0   \n",
       "1          1         3.0             2.0                   0.0   \n",
       "2          2         1.0             1.0                   0.0   \n",
       "3          3         1.0             1.0                   0.0   \n",
       "4          4         2.0             1.0                   0.0   \n",
       "\n",
       "   contact_avoidance  bought_face_mask  wash_hands_frequently  \\\n",
       "0                0.0               0.0                    0.0   \n",
       "1                1.0               0.0                    1.0   \n",
       "2                1.0               0.0                    0.0   \n",
       "3                1.0               0.0                    1.0   \n",
       "4                1.0               0.0                    1.0   \n",
       "\n",
       "   avoid_large_gatherings  reduced_outside_home_cont  avoid_touch_face  ...  \\\n",
       "0                     0.0                        1.0               1.0  ...   \n",
       "1                     0.0                        1.0               1.0  ...   \n",
       "2                     0.0                        0.0               0.0  ...   \n",
       "3                     1.0                        0.0               0.0  ...   \n",
       "4                     1.0                        0.0               1.0  ...   \n",
       "\n",
       "    race     sex               income_level  marital_status  housing_status  \\\n",
       "0  White  Female              Below Poverty     Not Married             Own   \n",
       "1  White    Male              Below Poverty     Not Married            Rent   \n",
       "2  White    Male  <= $75,000, Above Poverty     Not Married             Own   \n",
       "3  White  Female              Below Poverty     Not Married            Rent   \n",
       "4  White  Female  <= $75,000, Above Poverty         Married             Own   \n",
       "\n",
       "           employment                census_msa  no_of_adults  no_of_children  \\\n",
       "0  Not in Labor Force                   Non-MSA           0.0             0.0   \n",
       "1            Employed  MSA, Not Principle  City           0.0             0.0   \n",
       "2            Employed  MSA, Not Principle  City           2.0             0.0   \n",
       "3  Not in Labor Force       MSA, Principle City           0.0             0.0   \n",
       "4            Employed  MSA, Not Principle  City           1.0             0.0   \n",
       "\n",
       "   h1n1_vaccine  \n",
       "0             0  \n",
       "1             0  \n",
       "2             0  \n",
       "3             0  \n",
       "4             0  \n",
       "\n",
       "[5 rows x 34 columns]"
      ]
     },
     "execution_count": 2,
     "metadata": {},
     "output_type": "execute_result"
    }
   ],
   "source": [
    "vaccine = pd.read_csv('h1n1_vaccine_prediction.csv')\n",
    "vaccine.head()"
   ]
  },
  {
   "cell_type": "code",
   "execution_count": 3,
   "id": "def54375",
   "metadata": {},
   "outputs": [
    {
     "name": "stdout",
     "output_type": "stream",
     "text": [
      "<class 'pandas.core.frame.DataFrame'>\n",
      "RangeIndex: 26707 entries, 0 to 26706\n",
      "Data columns (total 34 columns):\n",
      " #   Column                     Non-Null Count  Dtype  \n",
      "---  ------                     --------------  -----  \n",
      " 0   unique_id                  26707 non-null  int64  \n",
      " 1   h1n1_worry                 26615 non-null  float64\n",
      " 2   h1n1_awareness             26591 non-null  float64\n",
      " 3   antiviral_medication       26636 non-null  float64\n",
      " 4   contact_avoidance          26499 non-null  float64\n",
      " 5   bought_face_mask           26688 non-null  float64\n",
      " 6   wash_hands_frequently      26665 non-null  float64\n",
      " 7   avoid_large_gatherings     26620 non-null  float64\n",
      " 8   reduced_outside_home_cont  26625 non-null  float64\n",
      " 9   avoid_touch_face           26579 non-null  float64\n",
      " 10  dr_recc_h1n1_vacc          24547 non-null  float64\n",
      " 11  dr_recc_seasonal_vacc      24547 non-null  float64\n",
      " 12  chronic_medic_condition    25736 non-null  float64\n",
      " 13  cont_child_undr_6_mnths    25887 non-null  float64\n",
      " 14  is_health_worker           25903 non-null  float64\n",
      " 15  has_health_insur           14433 non-null  float64\n",
      " 16  is_h1n1_vacc_effective     26316 non-null  float64\n",
      " 17  is_h1n1_risky              26319 non-null  float64\n",
      " 18  sick_from_h1n1_vacc        26312 non-null  float64\n",
      " 19  is_seas_vacc_effective     26245 non-null  float64\n",
      " 20  is_seas_risky              26193 non-null  float64\n",
      " 21  sick_from_seas_vacc        26170 non-null  float64\n",
      " 22  age_bracket                26707 non-null  object \n",
      " 23  qualification              25300 non-null  object \n",
      " 24  race                       26707 non-null  object \n",
      " 25  sex                        26707 non-null  object \n",
      " 26  income_level               22284 non-null  object \n",
      " 27  marital_status             25299 non-null  object \n",
      " 28  housing_status             24665 non-null  object \n",
      " 29  employment                 25244 non-null  object \n",
      " 30  census_msa                 26707 non-null  object \n",
      " 31  no_of_adults               26458 non-null  float64\n",
      " 32  no_of_children             26458 non-null  float64\n",
      " 33  h1n1_vaccine               26707 non-null  int64  \n",
      "dtypes: float64(23), int64(2), object(9)\n",
      "memory usage: 6.9+ MB\n"
     ]
    }
   ],
   "source": [
    "vaccine.info()"
   ]
  },
  {
   "cell_type": "code",
   "execution_count": 4,
   "id": "fa22f5eb",
   "metadata": {},
   "outputs": [
    {
     "data": {
      "text/plain": [
       "(26707, 34)"
      ]
     },
     "execution_count": 4,
     "metadata": {},
     "output_type": "execute_result"
    }
   ],
   "source": [
    "vaccine.shape"
   ]
  },
  {
   "cell_type": "code",
   "execution_count": 5,
   "id": "a5b79d5e",
   "metadata": {},
   "outputs": [
    {
     "data": {
      "text/plain": [
       "float64    23\n",
       "object      9\n",
       "int64       2\n",
       "dtype: int64"
      ]
     },
     "execution_count": 5,
     "metadata": {},
     "output_type": "execute_result"
    }
   ],
   "source": [
    "vaccine.dtypes.value_counts()"
   ]
  },
  {
   "cell_type": "code",
   "execution_count": 6,
   "id": "048b7cbe",
   "metadata": {},
   "outputs": [
    {
     "data": {
      "text/plain": [
       "Index(['unique_id', 'h1n1_worry', 'h1n1_awareness', 'antiviral_medication',\n",
       "       'contact_avoidance', 'bought_face_mask', 'wash_hands_frequently',\n",
       "       'avoid_large_gatherings', 'reduced_outside_home_cont',\n",
       "       'avoid_touch_face', 'dr_recc_h1n1_vacc', 'dr_recc_seasonal_vacc',\n",
       "       'chronic_medic_condition', 'cont_child_undr_6_mnths',\n",
       "       'is_health_worker', 'has_health_insur', 'is_h1n1_vacc_effective',\n",
       "       'is_h1n1_risky', 'sick_from_h1n1_vacc', 'is_seas_vacc_effective',\n",
       "       'is_seas_risky', 'sick_from_seas_vacc', 'age_bracket', 'qualification',\n",
       "       'race', 'sex', 'income_level', 'marital_status', 'housing_status',\n",
       "       'employment', 'census_msa', 'no_of_adults', 'no_of_children',\n",
       "       'h1n1_vaccine'],\n",
       "      dtype='object')"
      ]
     },
     "execution_count": 6,
     "metadata": {},
     "output_type": "execute_result"
    }
   ],
   "source": [
    "vaccine.columns"
   ]
  },
  {
   "cell_type": "code",
   "execution_count": 7,
   "id": "0bd04d59",
   "metadata": {},
   "outputs": [
    {
     "data": {
      "text/plain": [
       "h1n1_worry                      92\n",
       "h1n1_awareness                 116\n",
       "antiviral_medication            71\n",
       "contact_avoidance              208\n",
       "bought_face_mask                19\n",
       "wash_hands_frequently           42\n",
       "avoid_large_gatherings          87\n",
       "reduced_outside_home_cont       82\n",
       "avoid_touch_face               128\n",
       "dr_recc_h1n1_vacc             2160\n",
       "dr_recc_seasonal_vacc         2160\n",
       "chronic_medic_condition        971\n",
       "cont_child_undr_6_mnths        820\n",
       "is_health_worker               804\n",
       "has_health_insur             12274\n",
       "is_h1n1_vacc_effective         391\n",
       "is_h1n1_risky                  388\n",
       "sick_from_h1n1_vacc            395\n",
       "is_seas_vacc_effective         462\n",
       "is_seas_risky                  514\n",
       "sick_from_seas_vacc            537\n",
       "age_bracket                      0\n",
       "qualification                 1407\n",
       "race                             0\n",
       "sex                              0\n",
       "income_level                  4423\n",
       "marital_status                1408\n",
       "housing_status                2042\n",
       "employment                    1463\n",
       "census_msa                       0\n",
       "no_of_adults                   249\n",
       "no_of_children                 249\n",
       "h1n1_vaccine                     0\n",
       "dtype: int64"
      ]
     },
     "execution_count": 7,
     "metadata": {},
     "output_type": "execute_result"
    }
   ],
   "source": [
    "vaccine.drop(['unique_id'], inplace = True, axis = 1)\n",
    "vaccine.isnull().sum()"
   ]
  },
  {
   "cell_type": "code",
   "execution_count": 8,
   "id": "15178ec8",
   "metadata": {},
   "outputs": [
    {
     "data": {
      "text/plain": [
       "array([ 1.,  3.,  2.,  0., nan])"
      ]
     },
     "execution_count": 8,
     "metadata": {},
     "output_type": "execute_result"
    }
   ],
   "source": [
    "vaccine['h1n1_worry'].unique()"
   ]
  },
  {
   "cell_type": "code",
   "execution_count": 9,
   "id": "516804bc",
   "metadata": {},
   "outputs": [
    {
     "data": {
      "image/png": "[encoded data removed]",
      "text/plain": [
       "<Figure size 432x288 with 1 Axes>"
      ]
     },
     "metadata": {
      "needs_background": "light"
     },
     "output_type": "display_data"
    }
   ],
   "source": [
    "vaccine['h1n1_worry'].value_counts().plot(kind = 'bar')\n",
    "plt.xlabel('H1N1 Worry')\n",
    "plt.ylabel('Count')\n",
    "plt.show()"
   ]
  },
  {
   "cell_type": "code",
   "execution_count": 10,
   "id": "ef68f357",
   "metadata": {},
   "outputs": [
    {
     "data": {
      "text/plain": [
       "0    2.0\n",
       "Name: h1n1_worry, dtype: float64"
      ]
     },
     "metadata": {},
     "output_type": "display_data"
    },
    {
     "data": {
      "text/plain": [
       "2.0"
      ]
     },
     "metadata": {},
     "output_type": "display_data"
    }
   ],
   "source": [
    "display(vaccine['h1n1_worry'].mode(), vaccine['h1n1_worry'].median())"
   ]
  },
  {
   "cell_type": "code",
   "execution_count": 11,
   "id": "8a15ac9f",
   "metadata": {},
   "outputs": [
    {
     "data": {
      "text/plain": [
       "array([ 0.,  2.,  1., nan])"
      ]
     },
     "execution_count": 11,
     "metadata": {},
     "output_type": "execute_result"
    }
   ],
   "source": [
    "vaccine['h1n1_worry'].fillna(vaccine['h1n1_worry'].mode()[0], inplace = True)\n",
    "vaccine['h1n1_awareness'].unique()"
   ]
  },
  {
   "cell_type": "code",
   "execution_count": 12,
   "id": "3eca24ce",
   "metadata": {},
   "outputs": [
    {
     "data": {
      "image/png": "[encoded data removed]",
      "text/plain": [
       "<Figure size 432x288 with 1 Axes>"
      ]
     },
     "metadata": {
      "needs_background": "light"
     },
     "output_type": "display_data"
    }
   ],
   "source": [
    "sns.countplot(x = 'h1n1_awareness', data = vaccine, hue = 'h1n1_vaccine')\n",
    "plt.show()"
   ]
  },
  {
   "cell_type": "code",
   "execution_count": 13,
   "id": "f520c370",
   "metadata": {},
   "outputs": [
    {
     "data": {
      "text/plain": [
       "0    1.0\n",
       "Name: h1n1_awareness, dtype: float64"
      ]
     },
     "execution_count": 13,
     "metadata": {},
     "output_type": "execute_result"
    }
   ],
   "source": [
    "vaccine['h1n1_awareness'].mode()"
   ]
  },
  {
   "cell_type": "code",
   "execution_count": 14,
   "id": "1ccba0e1",
   "metadata": {},
   "outputs": [
    {
     "data": {
      "text/plain": [
       "array([ 0.,  1., nan])"
      ]
     },
     "execution_count": 14,
     "metadata": {},
     "output_type": "execute_result"
    }
   ],
   "source": [
    "vaccine['h1n1_awareness'].fillna(vaccine['h1n1_awareness'].mode()[0], inplace = True)\n",
    "vaccine['antiviral_medication'].unique()"
   ]
  },
  {
   "cell_type": "code",
   "execution_count": 15,
   "id": "85e0ba1a",
   "metadata": {},
   "outputs": [
    {
     "data": {
      "image/png": "[encoded data removed]",
      "text/plain": [
       "<Figure size 360x360 with 1 Axes>"
      ]
     },
     "metadata": {},
     "output_type": "display_data"
    }
   ],
   "source": [
    "vaccine['antiviral_medication'].value_counts().plot(kind = 'pie', autopct = '%0.2f%%', figsize = [5,5], explode = [0,0.2])\n",
    "plt.show()"
   ]
  },
  {
   "cell_type": "code",
   "execution_count": 16,
   "id": "e1bd0e0f",
   "metadata": {},
   "outputs": [
    {
     "data": {
      "text/plain": [
       "0    0.0\n",
       "Name: antiviral_medication, dtype: float64"
      ]
     },
     "metadata": {},
     "output_type": "display_data"
    }
   ],
   "source": [
    "display(vaccine['antiviral_medication'].mode())\n",
    "vaccine['antiviral_medication'].fillna(vaccine['antiviral_medication'].mode()[0], inplace = True)"
   ]
  },
  {
   "cell_type": "code",
   "execution_count": 17,
   "id": "197b5c4e",
   "metadata": {},
   "outputs": [
    {
     "data": {
      "text/plain": [
       "array([ 0.,  1., nan])"
      ]
     },
     "execution_count": 17,
     "metadata": {},
     "output_type": "execute_result"
    }
   ],
   "source": [
    "vaccine['contact_avoidance'].unique()"
   ]
  },
  {
   "cell_type": "code",
   "execution_count": 18,
   "id": "751656e0",
   "metadata": {},
   "outputs": [
    {
     "data": {
      "text/plain": [
       "1.0    19228\n",
       "0.0     7271\n",
       "Name: contact_avoidance, dtype: int64"
      ]
     },
     "execution_count": 18,
     "metadata": {},
     "output_type": "execute_result"
    }
   ],
   "source": [
    "vaccine['contact_avoidance'].value_counts()"
   ]
  },
  {
   "cell_type": "code",
   "execution_count": 19,
   "id": "3a041c9e",
   "metadata": {},
   "outputs": [
    {
     "data": {
      "image/png": "[encoded data removed]",
      "text/plain": [
       "<Figure size 432x288 with 1 Axes>"
      ]
     },
     "metadata": {
      "needs_background": "light"
     },
     "output_type": "display_data"
    }
   ],
   "source": [
    "sns.countplot(y = 'contact_avoidance', data = vaccine, color = 'green')\n",
    "plt.show()"
   ]
  },
  {
   "cell_type": "code",
   "execution_count": 20,
   "id": "1ea75b50",
   "metadata": {},
   "outputs": [
    {
     "data": {
      "text/plain": [
       "array([ 0.,  1., nan])"
      ]
     },
     "execution_count": 20,
     "metadata": {},
     "output_type": "execute_result"
    }
   ],
   "source": [
    "vaccine['contact_avoidance'].fillna(vaccine['contact_avoidance'].mode()[0], inplace = True)\n",
    "vaccine['bought_face_mask'].unique()"
   ]
  },
  {
   "cell_type": "code",
   "execution_count": 21,
   "id": "cda30ec0",
   "metadata": {},
   "outputs": [
    {
     "data": {
      "image/png": "[encoded data removed]",
      "text/plain": [
       "<Figure size 432x288 with 1 Axes>"
      ]
     },
     "metadata": {
      "needs_background": "light"
     },
     "output_type": "display_data"
    }
   ],
   "source": [
    "vaccine['bought_face_mask'].value_counts().plot(kind = 'bar', color = 'orange')\n",
    "plt.xlabel('bought_face_mask')\n",
    "plt.ylabel('count')\n",
    "plt.show()"
   ]
  },
  {
   "cell_type": "code",
   "execution_count": 22,
   "id": "06a3da7d",
   "metadata": {},
   "outputs": [
    {
     "data": {
      "text/plain": [
       "array([ 0.,  1., nan])"
      ]
     },
     "execution_count": 22,
     "metadata": {},
     "output_type": "execute_result"
    }
   ],
   "source": [
    "vaccine['bought_face_mask'].fillna(vaccine['bought_face_mask'].mode()[0], inplace = True)\n",
    "vaccine['wash_hands_frequently'].unique()"
   ]
  },
  {
   "cell_type": "code",
   "execution_count": 23,
   "id": "2bf43cd1",
   "metadata": {},
   "outputs": [
    {
     "data": {
      "image/png": "[encoded data removed]",
      "text/plain": [
       "<Figure size 432x288 with 1 Axes>"
      ]
     },
     "metadata": {
      "needs_background": "light"
     },
     "output_type": "display_data"
    }
   ],
   "source": [
    "sns.countplot(x = 'wash_hands_frequently', data = vaccine)\n",
    "plt.show()"
   ]
  },
  {
   "cell_type": "code",
   "execution_count": 24,
   "id": "1bdc3a44",
   "metadata": {},
   "outputs": [
    {
     "data": {
      "text/plain": [
       "array([ 0.,  1., nan])"
      ]
     },
     "execution_count": 24,
     "metadata": {},
     "output_type": "execute_result"
    }
   ],
   "source": [
    "vaccine['wash_hands_frequently'].fillna(vaccine['wash_hands_frequently'].mode()[0], inplace = True)\n",
    "vaccine['avoid_large_gatherings'].unique()"
   ]
  },
  {
   "cell_type": "code",
   "execution_count": 25,
   "id": "dee8a079",
   "metadata": {},
   "outputs": [
    {
     "data": {
      "text/plain": [
       "0.0    17073\n",
       "1.0     9547\n",
       "Name: avoid_large_gatherings, dtype: int64"
      ]
     },
     "execution_count": 25,
     "metadata": {},
     "output_type": "execute_result"
    }
   ],
   "source": [
    "vaccine['avoid_large_gatherings'].value_counts()"
   ]
  },
  {
   "cell_type": "code",
   "execution_count": 26,
   "id": "834f5c50",
   "metadata": {},
   "outputs": [
    {
     "data": {
      "text/plain": [
       "array([ 1.,  0., nan])"
      ]
     },
     "execution_count": 26,
     "metadata": {},
     "output_type": "execute_result"
    }
   ],
   "source": [
    "vaccine['avoid_large_gatherings'].fillna(vaccine['avoid_large_gatherings'].mode()[0], inplace = True)\n",
    "vaccine['reduced_outside_home_cont'].unique()"
   ]
  },
  {
   "cell_type": "code",
   "execution_count": 27,
   "id": "4f284447",
   "metadata": {},
   "outputs": [
    {
     "data": {
      "text/plain": [
       "0.0    17644\n",
       "1.0     8981\n",
       "Name: reduced_outside_home_cont, dtype: int64"
      ]
     },
     "execution_count": 27,
     "metadata": {},
     "output_type": "execute_result"
    }
   ],
   "source": [
    "vaccine['reduced_outside_home_cont'].value_counts()"
   ]
  },
  {
   "cell_type": "code",
   "execution_count": 28,
   "id": "e0d3bb0c",
   "metadata": {},
   "outputs": [
    {
     "data": {
      "text/plain": [
       "array([ 1.,  0., nan])"
      ]
     },
     "execution_count": 28,
     "metadata": {},
     "output_type": "execute_result"
    }
   ],
   "source": [
    "vaccine['reduced_outside_home_cont'].fillna(vaccine['reduced_outside_home_cont'].mode()[0], inplace = True)\n",
    "vaccine['avoid_touch_face'].unique()"
   ]
  },
  {
   "cell_type": "code",
   "execution_count": 29,
   "id": "113ec08a",
   "metadata": {},
   "outputs": [
    {
     "data": {
      "text/plain": [
       "1.0    18001\n",
       "0.0     8578\n",
       "Name: avoid_touch_face, dtype: int64"
      ]
     },
     "execution_count": 29,
     "metadata": {},
     "output_type": "execute_result"
    }
   ],
   "source": [
    "vaccine['avoid_touch_face'].value_counts()"
   ]
  },
  {
   "cell_type": "code",
   "execution_count": 30,
   "id": "7598727f",
   "metadata": {},
   "outputs": [
    {
     "data": {
      "text/plain": [
       "array([ 0., nan,  1.])"
      ]
     },
     "metadata": {},
     "output_type": "display_data"
    },
    {
     "data": {
      "text/plain": [
       "array([ 0., nan,  1.])"
      ]
     },
     "metadata": {},
     "output_type": "display_data"
    }
   ],
   "source": [
    "vaccine['avoid_touch_face'].fillna(vaccine['avoid_touch_face'].mode()[0], inplace = True)\n",
    "display(vaccine['dr_recc_h1n1_vacc'].unique(), vaccine['dr_recc_seasonal_vacc'].unique())"
   ]
  },
  {
   "cell_type": "code",
   "execution_count": 31,
   "id": "695d60a7",
   "metadata": {},
   "outputs": [
    {
     "data": {
      "image/png": "[encoded data removed]",
      "text/plain": [
       "<Figure size 504x432 with 2 Axes>"
      ]
     },
     "metadata": {
      "needs_background": "light"
     },
     "output_type": "display_data"
    }
   ],
   "source": [
    "fig, ax = plt.subplots(1,2, figsize = [7,6], sharey = True )\n",
    "sns.countplot(x = 'dr_recc_h1n1_vacc', data = vaccine, color = 'maroon', ax=ax[0])\n",
    "sns.countplot(x = 'dr_recc_seasonal_vacc', data = vaccine, color = 'navy', ax=ax[1])\n",
    "plt.show()"
   ]
  },
  {
   "cell_type": "code",
   "execution_count": 32,
   "id": "754eb0dc",
   "metadata": {},
   "outputs": [
    {
     "data": {
      "text/plain": [
       "0.0    18446\n",
       "1.0     7290\n",
       "Name: chronic_medic_condition, dtype: int64"
      ]
     },
     "execution_count": 32,
     "metadata": {},
     "output_type": "execute_result"
    }
   ],
   "source": [
    "vaccine['dr_recc_h1n1_vacc'].fillna(vaccine['dr_recc_h1n1_vacc'].mode()[0], inplace = True)\n",
    "vaccine['dr_recc_seasonal_vacc'].fillna(vaccine['dr_recc_seasonal_vacc'].mode()[0], inplace = True)\n",
    "vaccine['chronic_medic_condition'].value_counts()"
   ]
  },
  {
   "cell_type": "code",
   "execution_count": 33,
   "id": "824d2254",
   "metadata": {},
   "outputs": [
    {
     "data": {
      "text/plain": [
       "<AxesSubplot: >"
      ]
     },
     "execution_count": 33,
     "metadata": {},
     "output_type": "execute_result"
    },
    {
     "data": {
      "image/png": "[encoded data removed]",
      "text/plain": [
       "<Figure size 432x288 with 1 Axes>"
      ]
     },
     "metadata": {
      "needs_background": "light"
     },
     "output_type": "display_data"
    }
   ],
   "source": [
    "vaccine['chronic_medic_condition'].fillna(vaccine['chronic_medic_condition'].mode()[0], inplace = True)\n",
    "vaccine['cont_child_undr_6_mnths'].value_counts().plot(kind = 'barh', cmap = 'rainbow', edgecolor = 'b')\n"
   ]
  },
  {
   "cell_type": "code",
   "execution_count": 34,
   "id": "5f95c549",
   "metadata": {},
   "outputs": [
    {
     "data": {
      "text/plain": [
       "0.0    23004\n",
       "1.0     2899\n",
       "Name: is_health_worker, dtype: int64"
      ]
     },
     "execution_count": 34,
     "metadata": {},
     "output_type": "execute_result"
    }
   ],
   "source": [
    "vaccine['cont_child_undr_6_mnths'].fillna(vaccine['cont_child_undr_6_mnths'].mode()[0], inplace = True)\n",
    "vaccine['is_health_worker'].value_counts()"
   ]
  },
  {
   "cell_type": "code",
   "execution_count": 35,
   "id": "e01cd5b9",
   "metadata": {},
   "outputs": [
    {
     "data": {
      "text/plain": [
       "array([ 1., nan,  0.])"
      ]
     },
     "execution_count": 35,
     "metadata": {},
     "output_type": "execute_result"
    }
   ],
   "source": [
    "vaccine['is_health_worker'].fillna(vaccine['is_health_worker'].mode()[0], inplace = True)\n",
    "vaccine['has_health_insur'].unique()"
   ]
  },
  {
   "cell_type": "code",
   "execution_count": 36,
   "id": "011dcce0",
   "metadata": {},
   "outputs": [
    {
     "data": {
      "text/plain": [
       "<AxesSubplot: >"
      ]
     },
     "execution_count": 36,
     "metadata": {},
     "output_type": "execute_result"
    },
    {
     "data": {
      "image/png": "[encoded data removed]",
      "text/plain": [
       "<Figure size 432x288 with 1 Axes>"
      ]
     },
     "metadata": {
      "needs_background": "light"
     },
     "output_type": "display_data"
    }
   ],
   "source": [
    "vaccine['has_health_insur'].value_counts().plot(kind = 'barh')"
   ]
  },
  {
   "cell_type": "code",
   "execution_count": 37,
   "id": "768fd8c8",
   "metadata": {},
   "outputs": [
    {
     "data": {
      "text/plain": [
       "<AxesSubplot: >"
      ]
     },
     "execution_count": 37,
     "metadata": {},
     "output_type": "execute_result"
    },
    {
     "data": {
      "image/png": "[encoded data removed]",
      "text/plain": [
       "<Figure size 432x288 with 1 Axes>"
      ]
     },
     "metadata": {
      "needs_background": "light"
     },
     "output_type": "display_data"
    }
   ],
   "source": [
    "vaccine['has_health_insur'].fillna(2.0, inplace = True)\n",
    "vaccine['has_health_insur'].value_counts().plot(kind = 'barh', color = 'b', edgecolor = 'r')"
   ]
  },
  {
   "cell_type": "code",
   "execution_count": 38,
   "id": "46028893",
   "metadata": {},
   "outputs": [
    {
     "data": {
      "text/plain": [
       "array([ 3.,  5.,  4.,  2.,  1., nan])"
      ]
     },
     "metadata": {},
     "output_type": "display_data"
    },
    {
     "data": {
      "text/plain": [
       "array([ 2.,  4.,  5.,  3.,  1., nan])"
      ]
     },
     "metadata": {},
     "output_type": "display_data"
    }
   ],
   "source": [
    "display(vaccine['is_h1n1_vacc_effective'].unique(), vaccine['is_seas_vacc_effective'].unique())\n"
   ]
  },
  {
   "cell_type": "code",
   "execution_count": 39,
   "id": "d5f80bc6",
   "metadata": {},
   "outputs": [
    {
     "data": {
      "image/png": "[encoded data removed]",
      "text/plain": [
       "<Figure size 720x720 with 2 Axes>"
      ]
     },
     "metadata": {},
     "output_type": "display_data"
    }
   ],
   "source": [
    "colors = ['#CAFF70', '#FF1493', '#00BFFF', '#FFD700', '#836FFF']\n",
    "colors1 = ['#FF7F24', '#FFB90F', '#A2CD5A', '#BF3EFF', '#EEAEEE']\n",
    "fig, (ax1,ax2) = plt.subplots(1,2, figsize = [10,10])\n",
    "\n",
    "ax1.pie(vaccine['is_h1n1_vacc_effective'].value_counts(), labels = vaccine['is_h1n1_vacc_effective'].value_counts().index , \n",
    "        autopct = '%0.2f%%', explode= [0.1,0,0,0,0], colors = colors, shadow = True)\n",
    "\n",
    "ax2.pie(vaccine['is_seas_vacc_effective'].value_counts(), labels = vaccine['is_seas_vacc_effective'].value_counts().index , \n",
    "        autopct = '%0.2f%%', explode= [0.1,0,0,0,0], colors = colors1, shadow = True)\n",
    "\n",
    "ax1.set_title('is_h1n1_vacc_effective')\n",
    "ax2.set_title('is_seas_vacc_effective')\n",
    "\n",
    "plt.show()"
   ]
  },
  {
   "cell_type": "code",
   "execution_count": 40,
   "id": "0b6100fa",
   "metadata": {},
   "outputs": [
    {
     "data": {
      "text/plain": [
       "array([ 1.,  4.,  3.,  2.,  5., nan])"
      ]
     },
     "metadata": {},
     "output_type": "display_data"
    },
    {
     "data": {
      "text/plain": [
       "array([ 1.,  2.,  4.,  3.,  5., nan])"
      ]
     },
     "metadata": {},
     "output_type": "display_data"
    }
   ],
   "source": [
    "vaccine['is_h1n1_vacc_effective'].fillna(vaccine['is_h1n1_vacc_effective'].mode()[0], inplace = True)\n",
    "vaccine['is_seas_vacc_effective'].fillna(vaccine['is_seas_vacc_effective'].mode()[0], inplace = True)\n",
    "display(vaccine['is_h1n1_risky'].unique(), vaccine['is_seas_risky'].unique())"
   ]
  },
  {
   "cell_type": "code",
   "execution_count": 41,
   "id": "429ae765",
   "metadata": {},
   "outputs": [
    {
     "data": {
      "image/png": "[encoded data removed]",
      "text/plain": [
       "<Figure size 720x720 with 2 Axes>"
      ]
     },
     "metadata": {},
     "output_type": "display_data"
    }
   ],
   "source": [
    "fig, ax = plt.subplots(1, 2, figsize = [10,10])\n",
    "vaccine['is_h1n1_risky'].value_counts().plot(kind = 'pie', autopct = '%0.2f%%', explode = [0.05,0,0,0,0], cmap = 'RdYlGn', ax = ax[0])\n",
    "vaccine['is_seas_risky'].value_counts().plot(kind = 'pie', autopct = '%0.2f%%', explode = [0.05,0,0,0,0], cmap = 'Paired', ax = ax[1])\n",
    "plt.show()"
   ]
  },
  {
   "cell_type": "code",
   "execution_count": 42,
   "id": "8d2355b2",
   "metadata": {},
   "outputs": [
    {
     "data": {
      "text/plain": [
       "array([ 2.,  4.,  1.,  5.,  3., nan])"
      ]
     },
     "metadata": {},
     "output_type": "display_data"
    },
    {
     "data": {
      "text/plain": [
       "array([ 2.,  4.,  1.,  5., nan,  3.])"
      ]
     },
     "metadata": {},
     "output_type": "display_data"
    }
   ],
   "source": [
    "vaccine['is_h1n1_risky'].fillna(vaccine['is_h1n1_risky'].mode()[0], inplace = True)\n",
    "vaccine['is_seas_risky'].fillna(vaccine['is_seas_risky'].mode()[0], inplace = True)\n",
    "display(vaccine['sick_from_h1n1_vacc'].unique(), vaccine['sick_from_seas_vacc'].unique())"
   ]
  },
  {
   "cell_type": "code",
   "execution_count": 43,
   "id": "8fea3149",
   "metadata": {},
   "outputs": [
    {
     "data": {
      "image/png": "[encoded data removed]",
      "text/plain": [
       "<Figure size 720x720 with 2 Axes>"
      ]
     },
     "metadata": {},
     "output_type": "display_data"
    }
   ],
   "source": [
    "fig, ax = plt.subplots(1,2, figsize = [10,10])\n",
    "vaccine['sick_from_h1n1_vacc'].value_counts().plot(kind = 'pie', autopct = '%0.2f%%', explode = [0.05,0,0,0,0], cmap = 'Spectral', ax = ax[0])\n",
    "vaccine['sick_from_seas_vacc'].value_counts().plot(kind = 'pie', autopct = '%0.2f%%', explode = [0.05,0,0,0,0], cmap = 'twilight', ax = ax[1])\n",
    "plt.show()"
   ]
  },
  {
   "cell_type": "code",
   "execution_count": 44,
   "id": "0bc42970",
   "metadata": {},
   "outputs": [
    {
     "data": {
      "image/png": "[encoded data removed]",
      "text/plain": [
       "<Figure size 360x360 with 1 Axes>"
      ]
     },
     "metadata": {
      "needs_background": "light"
     },
     "output_type": "display_data"
    }
   ],
   "source": [
    "vaccine['sick_from_h1n1_vacc'].fillna(vaccine['sick_from_h1n1_vacc'].mode()[0], inplace = True)\n",
    "vaccine['sick_from_seas_vacc'].fillna(vaccine['sick_from_seas_vacc'].mode()[0], inplace = True)\n",
    "vaccine.groupby(['dr_recc_seasonal_vacc']).agg({'is_seas_vacc_effective' : ['count'],\n",
    "                                      'is_seas_risky' :['count'],\n",
    "                                      'sick_from_seas_vacc' : ['count']}).plot(kind = 'bar', cmap = 'tab20b', figsize = [5,5])\n",
    "plt.ylabel('count')\n",
    "plt.show()"
   ]
  },
  {
   "cell_type": "code",
   "execution_count": 45,
   "id": "9fa0499d",
   "metadata": {},
   "outputs": [
    {
     "data": {
      "image/png": "[encoded data removed]",
      "text/plain": [
       "<Figure size 360x360 with 1 Axes>"
      ]
     },
     "metadata": {
      "needs_background": "light"
     },
     "output_type": "display_data"
    }
   ],
   "source": [
    "vaccine.groupby(['dr_recc_h1n1_vacc']).agg({'is_h1n1_vacc_effective' : ['count'],\n",
    "                                      'is_h1n1_risky' :['count'],\n",
    "                                      'sick_from_h1n1_vacc' : ['count']}).plot(kind = 'bar', cmap = 'tab20c', figsize = [5,5])\n",
    "plt.ylabel('count')\n",
    "plt.show()"
   ]
  },
  {
   "cell_type": "code",
   "execution_count": 46,
   "id": "c81f7a44",
   "metadata": {},
   "outputs": [
    {
     "data": {
      "text/plain": [
       "array(['< 12 Years', '12 Years', 'College Graduate', 'Some College', nan],\n",
       "      dtype=object)"
      ]
     },
     "execution_count": 46,
     "metadata": {},
     "output_type": "execute_result"
    }
   ],
   "source": [
    "vaccine['qualification'].unique()"
   ]
  },
  {
   "cell_type": "code",
   "execution_count": 47,
   "id": "86bc0e0a",
   "metadata": {},
   "outputs": [
    {
     "data": {
      "text/plain": [
       "College Graduate    10097\n",
       "Some College         7043\n",
       "12 Years             5797\n",
       "< 12 Years           2363\n",
       "Name: qualification, dtype: int64"
      ]
     },
     "execution_count": 47,
     "metadata": {},
     "output_type": "execute_result"
    }
   ],
   "source": [
    "vaccine['qualification'].value_counts()\n"
   ]
  },
  {
   "cell_type": "code",
   "execution_count": 48,
   "id": "48daac63",
   "metadata": {},
   "outputs": [
    {
     "data": {
      "text/plain": [
       "<AxesSubplot: >"
      ]
     },
     "execution_count": 48,
     "metadata": {},
     "output_type": "execute_result"
    },
    {
     "data": {
      "image/png": "[encoded data removed]",
      "text/plain": [
       "<Figure size 432x288 with 1 Axes>"
      ]
     },
     "metadata": {
      "needs_background": "light"
     },
     "output_type": "display_data"
    }
   ],
   "source": [
    "vaccine['qualification'].fillna(vaccine['qualification'].mode()[0], inplace = True)\n",
    "vaccine['sex'].value_counts().plot(kind = 'barh', color = 'c', edgecolor = 'r')"
   ]
  },
  {
   "cell_type": "code",
   "execution_count": 49,
   "id": "28d7ad03",
   "metadata": {},
   "outputs": [
    {
     "data": {
      "text/plain": [
       "array(['Below Poverty', '<= $75,000, Above Poverty', '> $75,000', nan],\n",
       "      dtype=object)"
      ]
     },
     "execution_count": 49,
     "metadata": {},
     "output_type": "execute_result"
    }
   ],
   "source": [
    "vaccine['income_level'].unique()"
   ]
  },
  {
   "cell_type": "code",
   "execution_count": 50,
   "id": "30ed3743",
   "metadata": {},
   "outputs": [
    {
     "data": {
      "text/plain": [
       "<AxesSubplot: ylabel='income_level'>"
      ]
     },
     "execution_count": 50,
     "metadata": {},
     "output_type": "execute_result"
    },
    {
     "data": {
      "image/png": "[encoded data removed]",
      "text/plain": [
       "<Figure size 360x360 with 1 Axes>"
      ]
     },
     "metadata": {},
     "output_type": "display_data"
    }
   ],
   "source": [
    "vaccine['income_level'].value_counts().plot(kind = 'pie', autopct = '%0.2f%%', cmap = 'magma',\n",
    "                                            explode = [0,0.1,0], figsize = [5,5], shadow = True)\n"
   ]
  },
  {
   "cell_type": "code",
   "execution_count": 51,
   "id": "051726b4",
   "metadata": {},
   "outputs": [
    {
     "data": {
      "text/plain": [
       "array(['Not Married', 'Married', nan], dtype=object)"
      ]
     },
     "execution_count": 51,
     "metadata": {},
     "output_type": "execute_result"
    }
   ],
   "source": [
    "vaccine['income_level'].fillna('Unknown', inplace = True)\n",
    "vaccine['marital_status'].unique()"
   ]
  },
  {
   "cell_type": "code",
   "execution_count": 52,
   "id": "5c6c951b",
   "metadata": {},
   "outputs": [
    {
     "data": {
      "text/plain": [
       "Married        13555\n",
       "Not Married    11744\n",
       "Name: marital_status, dtype: int64"
      ]
     },
     "execution_count": 52,
     "metadata": {},
     "output_type": "execute_result"
    }
   ],
   "source": [
    "vaccine['marital_status'].value_counts()"
   ]
  },
  {
   "cell_type": "code",
   "execution_count": 53,
   "id": "8c7bfab1",
   "metadata": {},
   "outputs": [
    {
     "data": {
      "text/plain": [
       "array(['Own', 'Rent', nan], dtype=object)"
      ]
     },
     "execution_count": 53,
     "metadata": {},
     "output_type": "execute_result"
    }
   ],
   "source": [
    "vaccine['marital_status'].fillna(vaccine['marital_status'].mode()[0], inplace = True)\n",
    "vaccine['housing_status'].unique()"
   ]
  },
  {
   "cell_type": "code",
   "execution_count": 54,
   "id": "9f4fc710",
   "metadata": {},
   "outputs": [
    {
     "data": {
      "text/plain": [
       "<AxesSubplot: >"
      ]
     },
     "execution_count": 54,
     "metadata": {},
     "output_type": "execute_result"
    },
    {
     "data": {
      "image/png": "[encoded data removed]",
      "text/plain": [
       "<Figure size 432x288 with 1 Axes>"
      ]
     },
     "metadata": {
      "needs_background": "light"
     },
     "output_type": "display_data"
    }
   ],
   "source": [
    "vaccine['housing_status'].value_counts().plot(kind = 'bar', color = 'b', edgecolor = 'r')\n"
   ]
  },
  {
   "cell_type": "code",
   "execution_count": 55,
   "id": "29672c09",
   "metadata": {},
   "outputs": [
    {
     "data": {
      "text/plain": [
       "array(['Not in Labor Force', 'Employed', 'Unemployed', nan], dtype=object)"
      ]
     },
     "execution_count": 55,
     "metadata": {},
     "output_type": "execute_result"
    }
   ],
   "source": [
    "vaccine['housing_status'].fillna(vaccine['housing_status'].mode()[0], inplace = True)\n",
    "vaccine['employment'].unique()"
   ]
  },
  {
   "cell_type": "code",
   "execution_count": 56,
   "id": "14e9d225",
   "metadata": {},
   "outputs": [
    {
     "data": {
      "text/plain": [
       "<AxesSubplot: ylabel='employment'>"
      ]
     },
     "execution_count": 56,
     "metadata": {},
     "output_type": "execute_result"
    },
    {
     "data": {
      "image/png": "[encoded data removed]",
      "text/plain": [
       "<Figure size 360x360 with 1 Axes>"
      ]
     },
     "metadata": {},
     "output_type": "display_data"
    }
   ],
   "source": [
    "vaccine['employment'].value_counts().plot(kind = 'pie', autopct = '%0.2f%%', figsize = [5,5])"
   ]
  },
  {
   "cell_type": "code",
   "execution_count": 57,
   "id": "c6130121",
   "metadata": {},
   "outputs": [
    {
     "data": {
      "text/plain": [
       "array([ 0.,  2.,  1.,  3., nan])"
      ]
     },
     "metadata": {},
     "output_type": "display_data"
    },
    {
     "data": {
      "text/plain": [
       "array([ 0.,  3.,  2.,  1., nan])"
      ]
     },
     "metadata": {},
     "output_type": "display_data"
    }
   ],
   "source": [
    "vaccine['employment'].fillna(vaccine['employment'].mode()[0], inplace = True)\n",
    "display(vaccine['no_of_adults'].unique(), vaccine['no_of_children'].unique())"
   ]
  },
  {
   "cell_type": "code",
   "execution_count": 58,
   "id": "76c0fe84",
   "metadata": {},
   "outputs": [
    {
     "data": {
      "image/png": "[encoded data removed]",
      "text/plain": [
       "<Figure size 504x360 with 2 Axes>"
      ]
     },
     "metadata": {
      "needs_background": "light"
     },
     "output_type": "display_data"
    }
   ],
   "source": [
    "fig, ax = plt.subplots(1,2, figsize = [7,5], sharey = True)\n",
    "sns.countplot( x = 'no_of_adults', data = vaccine, ax = ax[0])\n",
    "sns.countplot( x = 'no_of_children', data = vaccine, ax = ax[1])\n",
    "plt.show()"
   ]
  },
  {
   "cell_type": "code",
   "execution_count": 59,
   "id": "e0ac3fd8",
   "metadata": {},
   "outputs": [
    {
     "data": {
      "text/plain": [
       "65+ Years        6843\n",
       "55 - 64 Years    5563\n",
       "45 - 54 Years    5238\n",
       "18 - 34 Years    5215\n",
       "35 - 44 Years    3848\n",
       "Name: age_bracket, dtype: int64"
      ]
     },
     "execution_count": 59,
     "metadata": {},
     "output_type": "execute_result"
    }
   ],
   "source": [
    "vaccine['no_of_adults'].fillna(vaccine['no_of_adults'].mode()[0], inplace = True)\n",
    "vaccine['no_of_children'].fillna(vaccine['no_of_children'].mode()[0], inplace = True)\n",
    "vaccine['age_bracket'].value_counts()"
   ]
  },
  {
   "cell_type": "code",
   "execution_count": 60,
   "id": "2cfb1523",
   "metadata": {},
   "outputs": [
    {
     "data": {
      "text/plain": [
       "h1n1_worry                   0\n",
       "h1n1_awareness               0\n",
       "antiviral_medication         0\n",
       "contact_avoidance            0\n",
       "bought_face_mask             0\n",
       "wash_hands_frequently        0\n",
       "avoid_large_gatherings       0\n",
       "reduced_outside_home_cont    0\n",
       "avoid_touch_face             0\n",
       "dr_recc_h1n1_vacc            0\n",
       "dr_recc_seasonal_vacc        0\n",
       "chronic_medic_condition      0\n",
       "cont_child_undr_6_mnths      0\n",
       "is_health_worker             0\n",
       "has_health_insur             0\n",
       "is_h1n1_vacc_effective       0\n",
       "is_h1n1_risky                0\n",
       "sick_from_h1n1_vacc          0\n",
       "is_seas_vacc_effective       0\n",
       "is_seas_risky                0\n",
       "sick_from_seas_vacc          0\n",
       "age_bracket                  0\n",
       "qualification                0\n",
       "race                         0\n",
       "sex                          0\n",
       "income_level                 0\n",
       "marital_status               0\n",
       "housing_status               0\n",
       "employment                   0\n",
       "census_msa                   0\n",
       "no_of_adults                 0\n",
       "no_of_children               0\n",
       "h1n1_vaccine                 0\n",
       "dtype: int64"
      ]
     },
     "execution_count": 60,
     "metadata": {},
     "output_type": "execute_result"
    }
   ],
   "source": [
    "vaccine.isnull().sum()"
   ]
  },
  {
   "cell_type": "code",
   "execution_count": 61,
   "id": "617dffef",
   "metadata": {},
   "outputs": [
    {
     "data": {
      "text/plain": [
       "object    33\n",
       "dtype: int64"
      ]
     },
     "execution_count": 61,
     "metadata": {},
     "output_type": "execute_result"
    }
   ],
   "source": [
    "vaccine1 = vaccine.astype({'h1n1_worry' : str, 'h1n1_awareness': str, 'antiviral_medication': str,\n",
    "       'contact_avoidance': str, 'bought_face_mask': str, 'wash_hands_frequently': str,\n",
    "       'avoid_large_gatherings': str, 'reduced_outside_home_cont': str,\n",
    "       'avoid_touch_face': str, 'dr_recc_h1n1_vacc': str, 'dr_recc_seasonal_vacc': str,\n",
    "       'chronic_medic_condition': str, 'cont_child_undr_6_mnths': str,\n",
    "       'is_health_worker': str, 'has_health_insur': str, 'is_h1n1_vacc_effective': str,\n",
    "       'is_h1n1_risky': str, 'sick_from_h1n1_vacc': str, 'is_seas_vacc_effective': str, 'age_bracket' : str,\n",
    "       'is_seas_risky': str, 'sick_from_seas_vacc': str, 'no_of_adults' : str, 'no_of_children' : str,\n",
    "        'h1n1_vaccine' : str})\n",
    "vaccine1.dtypes.value_counts()"
   ]
  },
  {
   "cell_type": "code",
   "execution_count": 62,
   "id": "af9685b7",
   "metadata": {},
   "outputs": [
    {
     "data": {
      "text/plain": [
       "(26707, 70)"
      ]
     },
     "execution_count": 62,
     "metadata": {},
     "output_type": "execute_result"
    }
   ],
   "source": [
    "vaccine_dummy = pd.get_dummies(vaccine1, drop_first= True )\n",
    "vaccine_dummy.shape"
   ]
  },
  {
   "cell_type": "code",
   "execution_count": 63,
   "id": "52257d11",
   "metadata": {},
   "outputs": [
    {
     "data": {
      "text/plain": [
       "0    0.787546\n",
       "1    0.212454\n",
       "Name: h1n1_vaccine_1, dtype: float64"
      ]
     },
     "execution_count": 63,
     "metadata": {},
     "output_type": "execute_result"
    }
   ],
   "source": [
    "vaccine_dummy['h1n1_vaccine_1'].value_counts(normalize = True)"
   ]
  },
  {
   "cell_type": "code",
   "execution_count": 64,
   "id": "6dc3724f",
   "metadata": {},
   "outputs": [
    {
     "data": {
      "text/html": [
       "<div>\n",
       "<style scoped>\n",
       "    .dataframe tbody tr th:only-of-type {\n",
       "        vertical-align: middle;\n",
       "    }\n",
       "\n",
       "    .dataframe tbody tr th {\n",
       "        vertical-align: top;\n",
       "    }\n",
       "\n",
       "    .dataframe thead th {\n",
       "        text-align: right;\n",
       "    }\n",
       "</style>\n",
       "<table border=\"1\" class=\"dataframe\">\n",
       "  <thead>\n",
       "    <tr style=\"text-align: right;\">\n",
       "      <th></th>\n",
       "      <th>Var</th>\n",
       "      <th>VIF</th>\n",
       "    </tr>\n",
       "  </thead>\n",
       "  <tbody>\n",
       "    <tr>\n",
       "      <th>28</th>\n",
       "      <td>sick_from_h1n1_vacc_3.0</td>\n",
       "      <td>1.094738</td>\n",
       "    </tr>\n",
       "    <tr>\n",
       "      <th>40</th>\n",
       "      <td>sick_from_seas_vacc_3.0</td>\n",
       "      <td>1.087666</td>\n",
       "    </tr>\n",
       "    <tr>\n",
       "      <th>22</th>\n",
       "      <td>is_h1n1_vacc_effective_5.0</td>\n",
       "      <td>0.379078</td>\n",
       "    </tr>\n",
       "    <tr>\n",
       "      <th>32</th>\n",
       "      <td>is_seas_vacc_effective_3.0</td>\n",
       "      <td>0.376005</td>\n",
       "    </tr>\n",
       "    <tr>\n",
       "      <th>36</th>\n",
       "      <td>is_seas_risky_3.0</td>\n",
       "      <td>0.351710</td>\n",
       "    </tr>\n",
       "    <tr>\n",
       "      <th>...</th>\n",
       "      <td>...</td>\n",
       "      <td>...</td>\n",
       "    </tr>\n",
       "    <tr>\n",
       "      <th>4</th>\n",
       "      <td>h1n1_awareness_2.0</td>\n",
       "      <td>0.008856</td>\n",
       "    </tr>\n",
       "    <tr>\n",
       "      <th>25</th>\n",
       "      <td>is_h1n1_risky_4.0</td>\n",
       "      <td>0.008779</td>\n",
       "    </tr>\n",
       "    <tr>\n",
       "      <th>62</th>\n",
       "      <td>census_msa_Non-MSA</td>\n",
       "      <td>0.006878</td>\n",
       "    </tr>\n",
       "    <tr>\n",
       "      <th>10</th>\n",
       "      <td>reduced_outside_home_cont_1.0</td>\n",
       "      <td>0.005734</td>\n",
       "    </tr>\n",
       "    <tr>\n",
       "      <th>43</th>\n",
       "      <td>age_bracket_35 - 44 Years</td>\n",
       "      <td>0.003837</td>\n",
       "    </tr>\n",
       "  </tbody>\n",
       "</table>\n",
       "<p>69 rows × 2 columns</p>\n",
       "</div>"
      ],
      "text/plain": [
       "                              Var       VIF\n",
       "28        sick_from_h1n1_vacc_3.0  1.094738\n",
       "40        sick_from_seas_vacc_3.0  1.087666\n",
       "22     is_h1n1_vacc_effective_5.0  0.379078\n",
       "32     is_seas_vacc_effective_3.0  0.376005\n",
       "36              is_seas_risky_3.0  0.351710\n",
       "..                            ...       ...\n",
       "4              h1n1_awareness_2.0  0.008856\n",
       "25              is_h1n1_risky_4.0  0.008779\n",
       "62             census_msa_Non-MSA  0.006878\n",
       "10  reduced_outside_home_cont_1.0  0.005734\n",
       "43      age_bracket_35 - 44 Years  0.003837\n",
       "\n",
       "[69 rows x 2 columns]"
      ]
     },
     "execution_count": 64,
     "metadata": {},
     "output_type": "execute_result"
    }
   ],
   "source": [
    "y=vaccine_dummy['h1n1_vaccine_1']\n",
    "x=vaccine_dummy.drop(['h1n1_vaccine_1'], axis=1)\n",
    "from statsmodels.stats.outliers_influence import variance_inflation_factor\n",
    "vif_data = pd.DataFrame()\n",
    "vif_data['Var'] = x.columns\n",
    "vif_data['VIF'] = [variance_inflation_factor(x.values, i) for i in range(len(x.columns))]\n",
    "vif_data.sort_values(by = ['VIF'], ascending = False)"
   ]
  },
  {
   "cell_type": "code",
   "execution_count": 65,
   "id": "c2629738",
   "metadata": {},
   "outputs": [],
   "source": [
    "x_train, x_test, y_train , y_test=train_test_split(x,y, test_size=.25, random_state=88)"
   ]
  },
  {
   "cell_type": "markdown",
   "id": "34051725",
   "metadata": {},
   "source": [
    "## Logistic Regression"
   ]
  },
  {
   "cell_type": "code",
   "execution_count": 66,
   "id": "6c33b4c1",
   "metadata": {},
   "outputs": [
    {
     "name": "stdout",
     "output_type": "stream",
     "text": [
      "Training Score : 0.8558162755866201\n",
      "Testing Score : 0.8442414257900255\n"
     ]
    }
   ],
   "source": [
    "log = LogisticRegression()\n",
    "\n",
    "log.fit(x_train,y_train)\n",
    "\n",
    "print(f\"Training Score : {log.score(x_train, y_train)}\")\n",
    "print(f\"Testing Score : {log.score(x_test, y_test)}\")"
   ]
  },
  {
   "cell_type": "code",
   "execution_count": 67,
   "id": "80819159",
   "metadata": {},
   "outputs": [
    {
     "data": {
      "text/html": [
       "<div>\n",
       "<style scoped>\n",
       "    .dataframe tbody tr th:only-of-type {\n",
       "        vertical-align: middle;\n",
       "    }\n",
       "\n",
       "    .dataframe tbody tr th {\n",
       "        vertical-align: top;\n",
       "    }\n",
       "\n",
       "    .dataframe thead th {\n",
       "        text-align: right;\n",
       "    }\n",
       "</style>\n",
       "<table border=\"1\" class=\"dataframe\">\n",
       "  <thead>\n",
       "    <tr style=\"text-align: right;\">\n",
       "      <th></th>\n",
       "      <th>Pred_0</th>\n",
       "      <th>Pred_1</th>\n",
       "    </tr>\n",
       "  </thead>\n",
       "  <tbody>\n",
       "    <tr>\n",
       "      <th>Act_0</th>\n",
       "      <td>15031</td>\n",
       "      <td>773</td>\n",
       "    </tr>\n",
       "    <tr>\n",
       "      <th>Act_1</th>\n",
       "      <td>2115</td>\n",
       "      <td>2111</td>\n",
       "    </tr>\n",
       "  </tbody>\n",
       "</table>\n",
       "</div>"
      ],
      "text/plain": [
       "       Pred_0  Pred_1\n",
       "Act_0   15031     773\n",
       "Act_1    2115    2111"
      ]
     },
     "execution_count": 67,
     "metadata": {},
     "output_type": "execute_result"
    }
   ],
   "source": [
    "pred_train=log.predict(x_train)\n",
    "pred_test=log.predict(x_test)\n",
    "cnfTrain=pd.DataFrame(metrics.confusion_matrix(y_train , pred_train), columns=[\"Pred_0\", \"Pred_1\"],\n",
    "                index=[\"Act_0\", \"Act_1\"])\n",
    "cnfTrain"
   ]
  },
  {
   "cell_type": "code",
   "execution_count": 68,
   "id": "0c1f80ca",
   "metadata": {},
   "outputs": [
    {
     "name": "stdout",
     "output_type": "stream",
     "text": [
      "              precision    recall  f1-score   support\n",
      "\n",
      "           0       0.88      0.95      0.91     15804\n",
      "           1       0.73      0.50      0.59      4226\n",
      "\n",
      "    accuracy                           0.86     20030\n",
      "   macro avg       0.80      0.73      0.75     20030\n",
      "weighted avg       0.85      0.86      0.85     20030\n",
      "\n"
     ]
    }
   ],
   "source": [
    "print(metrics.classification_report(y_train, pred_train))"
   ]
  },
  {
   "cell_type": "code",
   "execution_count": 69,
   "id": "e410143f",
   "metadata": {},
   "outputs": [
    {
     "data": {
      "text/html": [
       "<div>\n",
       "<style scoped>\n",
       "    .dataframe tbody tr th:only-of-type {\n",
       "        vertical-align: middle;\n",
       "    }\n",
       "\n",
       "    .dataframe tbody tr th {\n",
       "        vertical-align: top;\n",
       "    }\n",
       "\n",
       "    .dataframe thead th {\n",
       "        text-align: right;\n",
       "    }\n",
       "</style>\n",
       "<table border=\"1\" class=\"dataframe\">\n",
       "  <thead>\n",
       "    <tr style=\"text-align: right;\">\n",
       "      <th></th>\n",
       "      <th>Pred_0</th>\n",
       "      <th>Pred_1</th>\n",
       "    </tr>\n",
       "  </thead>\n",
       "  <tbody>\n",
       "    <tr>\n",
       "      <th>Act_0</th>\n",
       "      <td>4985</td>\n",
       "      <td>244</td>\n",
       "    </tr>\n",
       "    <tr>\n",
       "      <th>Act_1</th>\n",
       "      <td>796</td>\n",
       "      <td>652</td>\n",
       "    </tr>\n",
       "  </tbody>\n",
       "</table>\n",
       "</div>"
      ],
      "text/plain": [
       "       Pred_0  Pred_1\n",
       "Act_0    4985     244\n",
       "Act_1     796     652"
      ]
     },
     "execution_count": 69,
     "metadata": {},
     "output_type": "execute_result"
    }
   ],
   "source": [
    "cnfTest=pd.DataFrame(metrics.confusion_matrix(y_test , pred_test), columns=[\"Pred_0\", \"Pred_1\"],\n",
    "                index=[\"Act_0\", \"Act_1\"])\n",
    "cnfTest"
   ]
  },
  {
   "cell_type": "code",
   "execution_count": 70,
   "id": "0e48b1a7",
   "metadata": {},
   "outputs": [
    {
     "name": "stdout",
     "output_type": "stream",
     "text": [
      "              precision    recall  f1-score   support\n",
      "\n",
      "           0       0.86      0.95      0.91      5229\n",
      "           1       0.73      0.45      0.56      1448\n",
      "\n",
      "    accuracy                           0.84      6677\n",
      "   macro avg       0.79      0.70      0.73      6677\n",
      "weighted avg       0.83      0.84      0.83      6677\n",
      "\n"
     ]
    }
   ],
   "source": [
    "print(metrics.classification_report(y_test, pred_test))"
   ]
  },
  {
   "cell_type": "code",
   "execution_count": 71,
   "id": "2fafabe9",
   "metadata": {},
   "outputs": [
    {
     "data": {
      "text/html": [
       "<div>\n",
       "<style scoped>\n",
       "    .dataframe tbody tr th:only-of-type {\n",
       "        vertical-align: middle;\n",
       "    }\n",
       "\n",
       "    .dataframe tbody tr th {\n",
       "        vertical-align: top;\n",
       "    }\n",
       "\n",
       "    .dataframe thead th {\n",
       "        text-align: right;\n",
       "    }\n",
       "</style>\n",
       "<table border=\"1\" class=\"dataframe\">\n",
       "  <thead>\n",
       "    <tr style=\"text-align: right;\">\n",
       "      <th></th>\n",
       "      <th>Prob_0</th>\n",
       "      <th>Prob_1</th>\n",
       "    </tr>\n",
       "  </thead>\n",
       "  <tbody>\n",
       "    <tr>\n",
       "      <th>0</th>\n",
       "      <td>0.945305</td>\n",
       "      <td>0.054695</td>\n",
       "    </tr>\n",
       "    <tr>\n",
       "      <th>1</th>\n",
       "      <td>0.965775</td>\n",
       "      <td>0.034225</td>\n",
       "    </tr>\n",
       "    <tr>\n",
       "      <th>2</th>\n",
       "      <td>0.404756</td>\n",
       "      <td>0.595244</td>\n",
       "    </tr>\n",
       "    <tr>\n",
       "      <th>3</th>\n",
       "      <td>0.988857</td>\n",
       "      <td>0.011143</td>\n",
       "    </tr>\n",
       "    <tr>\n",
       "      <th>4</th>\n",
       "      <td>0.799952</td>\n",
       "      <td>0.200048</td>\n",
       "    </tr>\n",
       "    <tr>\n",
       "      <th>...</th>\n",
       "      <td>...</td>\n",
       "      <td>...</td>\n",
       "    </tr>\n",
       "    <tr>\n",
       "      <th>20025</th>\n",
       "      <td>0.963749</td>\n",
       "      <td>0.036251</td>\n",
       "    </tr>\n",
       "    <tr>\n",
       "      <th>20026</th>\n",
       "      <td>0.935796</td>\n",
       "      <td>0.064204</td>\n",
       "    </tr>\n",
       "    <tr>\n",
       "      <th>20027</th>\n",
       "      <td>0.735832</td>\n",
       "      <td>0.264168</td>\n",
       "    </tr>\n",
       "    <tr>\n",
       "      <th>20028</th>\n",
       "      <td>0.775515</td>\n",
       "      <td>0.224485</td>\n",
       "    </tr>\n",
       "    <tr>\n",
       "      <th>20029</th>\n",
       "      <td>0.962829</td>\n",
       "      <td>0.037171</td>\n",
       "    </tr>\n",
       "  </tbody>\n",
       "</table>\n",
       "<p>20030 rows × 2 columns</p>\n",
       "</div>"
      ],
      "text/plain": [
       "         Prob_0    Prob_1\n",
       "0      0.945305  0.054695\n",
       "1      0.965775  0.034225\n",
       "2      0.404756  0.595244\n",
       "3      0.988857  0.011143\n",
       "4      0.799952  0.200048\n",
       "...         ...       ...\n",
       "20025  0.963749  0.036251\n",
       "20026  0.935796  0.064204\n",
       "20027  0.735832  0.264168\n",
       "20028  0.775515  0.224485\n",
       "20029  0.962829  0.037171\n",
       "\n",
       "[20030 rows x 2 columns]"
      ]
     },
     "execution_count": 71,
     "metadata": {},
     "output_type": "execute_result"
    }
   ],
   "source": [
    "pd.DataFrame(log.predict_proba(x_train), columns=[\"Prob_0\", \"Prob_1\"])"
   ]
  },
  {
   "cell_type": "code",
   "execution_count": 72,
   "id": "a676a89e",
   "metadata": {},
   "outputs": [
    {
     "data": {
      "text/html": [
       "<div>\n",
       "<style scoped>\n",
       "    .dataframe tbody tr th:only-of-type {\n",
       "        vertical-align: middle;\n",
       "    }\n",
       "\n",
       "    .dataframe tbody tr th {\n",
       "        vertical-align: top;\n",
       "    }\n",
       "\n",
       "    .dataframe thead th {\n",
       "        text-align: right;\n",
       "    }\n",
       "</style>\n",
       "<table border=\"1\" class=\"dataframe\">\n",
       "  <thead>\n",
       "    <tr style=\"text-align: right;\">\n",
       "      <th></th>\n",
       "      <th>h1n1_worry_1.0</th>\n",
       "      <th>h1n1_worry_2.0</th>\n",
       "      <th>h1n1_worry_3.0</th>\n",
       "      <th>h1n1_awareness_1.0</th>\n",
       "      <th>h1n1_awareness_2.0</th>\n",
       "      <th>antiviral_medication_1.0</th>\n",
       "      <th>contact_avoidance_1.0</th>\n",
       "      <th>bought_face_mask_1.0</th>\n",
       "      <th>wash_hands_frequently_1.0</th>\n",
       "      <th>avoid_large_gatherings_1.0</th>\n",
       "      <th>...</th>\n",
       "      <th>census_msa_MSA, Principle City</th>\n",
       "      <th>census_msa_Non-MSA</th>\n",
       "      <th>no_of_adults_1.0</th>\n",
       "      <th>no_of_adults_2.0</th>\n",
       "      <th>no_of_adults_3.0</th>\n",
       "      <th>no_of_children_1.0</th>\n",
       "      <th>no_of_children_2.0</th>\n",
       "      <th>no_of_children_3.0</th>\n",
       "      <th>Actual_Default</th>\n",
       "      <th>Prob_Default</th>\n",
       "    </tr>\n",
       "  </thead>\n",
       "  <tbody>\n",
       "    <tr>\n",
       "      <th>9353</th>\n",
       "      <td>1</td>\n",
       "      <td>0</td>\n",
       "      <td>0</td>\n",
       "      <td>1</td>\n",
       "      <td>0</td>\n",
       "      <td>0</td>\n",
       "      <td>1</td>\n",
       "      <td>0</td>\n",
       "      <td>1</td>\n",
       "      <td>1</td>\n",
       "      <td>...</td>\n",
       "      <td>0</td>\n",
       "      <td>0</td>\n",
       "      <td>1</td>\n",
       "      <td>0</td>\n",
       "      <td>0</td>\n",
       "      <td>0</td>\n",
       "      <td>0</td>\n",
       "      <td>0</td>\n",
       "      <td>0</td>\n",
       "      <td>0.054695</td>\n",
       "    </tr>\n",
       "    <tr>\n",
       "      <th>6317</th>\n",
       "      <td>0</td>\n",
       "      <td>1</td>\n",
       "      <td>0</td>\n",
       "      <td>1</td>\n",
       "      <td>0</td>\n",
       "      <td>0</td>\n",
       "      <td>1</td>\n",
       "      <td>0</td>\n",
       "      <td>1</td>\n",
       "      <td>0</td>\n",
       "      <td>...</td>\n",
       "      <td>1</td>\n",
       "      <td>0</td>\n",
       "      <td>1</td>\n",
       "      <td>0</td>\n",
       "      <td>0</td>\n",
       "      <td>0</td>\n",
       "      <td>0</td>\n",
       "      <td>0</td>\n",
       "      <td>0</td>\n",
       "      <td>0.034225</td>\n",
       "    </tr>\n",
       "    <tr>\n",
       "      <th>13542</th>\n",
       "      <td>0</td>\n",
       "      <td>1</td>\n",
       "      <td>0</td>\n",
       "      <td>1</td>\n",
       "      <td>0</td>\n",
       "      <td>0</td>\n",
       "      <td>0</td>\n",
       "      <td>0</td>\n",
       "      <td>1</td>\n",
       "      <td>1</td>\n",
       "      <td>...</td>\n",
       "      <td>0</td>\n",
       "      <td>1</td>\n",
       "      <td>0</td>\n",
       "      <td>0</td>\n",
       "      <td>0</td>\n",
       "      <td>0</td>\n",
       "      <td>0</td>\n",
       "      <td>0</td>\n",
       "      <td>0</td>\n",
       "      <td>0.595244</td>\n",
       "    </tr>\n",
       "    <tr>\n",
       "      <th>23986</th>\n",
       "      <td>0</td>\n",
       "      <td>1</td>\n",
       "      <td>0</td>\n",
       "      <td>0</td>\n",
       "      <td>1</td>\n",
       "      <td>0</td>\n",
       "      <td>1</td>\n",
       "      <td>0</td>\n",
       "      <td>1</td>\n",
       "      <td>1</td>\n",
       "      <td>...</td>\n",
       "      <td>0</td>\n",
       "      <td>0</td>\n",
       "      <td>0</td>\n",
       "      <td>0</td>\n",
       "      <td>0</td>\n",
       "      <td>0</td>\n",
       "      <td>0</td>\n",
       "      <td>0</td>\n",
       "      <td>0</td>\n",
       "      <td>0.011143</td>\n",
       "    </tr>\n",
       "    <tr>\n",
       "      <th>16025</th>\n",
       "      <td>1</td>\n",
       "      <td>0</td>\n",
       "      <td>0</td>\n",
       "      <td>0</td>\n",
       "      <td>1</td>\n",
       "      <td>1</td>\n",
       "      <td>1</td>\n",
       "      <td>0</td>\n",
       "      <td>1</td>\n",
       "      <td>1</td>\n",
       "      <td>...</td>\n",
       "      <td>1</td>\n",
       "      <td>0</td>\n",
       "      <td>1</td>\n",
       "      <td>0</td>\n",
       "      <td>0</td>\n",
       "      <td>0</td>\n",
       "      <td>0</td>\n",
       "      <td>0</td>\n",
       "      <td>1</td>\n",
       "      <td>0.200048</td>\n",
       "    </tr>\n",
       "    <tr>\n",
       "      <th>...</th>\n",
       "      <td>...</td>\n",
       "      <td>...</td>\n",
       "      <td>...</td>\n",
       "      <td>...</td>\n",
       "      <td>...</td>\n",
       "      <td>...</td>\n",
       "      <td>...</td>\n",
       "      <td>...</td>\n",
       "      <td>...</td>\n",
       "      <td>...</td>\n",
       "      <td>...</td>\n",
       "      <td>...</td>\n",
       "      <td>...</td>\n",
       "      <td>...</td>\n",
       "      <td>...</td>\n",
       "      <td>...</td>\n",
       "      <td>...</td>\n",
       "      <td>...</td>\n",
       "      <td>...</td>\n",
       "      <td>...</td>\n",
       "      <td>...</td>\n",
       "    </tr>\n",
       "    <tr>\n",
       "      <th>24938</th>\n",
       "      <td>0</td>\n",
       "      <td>0</td>\n",
       "      <td>0</td>\n",
       "      <td>0</td>\n",
       "      <td>1</td>\n",
       "      <td>0</td>\n",
       "      <td>1</td>\n",
       "      <td>0</td>\n",
       "      <td>1</td>\n",
       "      <td>0</td>\n",
       "      <td>...</td>\n",
       "      <td>0</td>\n",
       "      <td>1</td>\n",
       "      <td>0</td>\n",
       "      <td>0</td>\n",
       "      <td>1</td>\n",
       "      <td>1</td>\n",
       "      <td>0</td>\n",
       "      <td>0</td>\n",
       "      <td>0</td>\n",
       "      <td>0.036251</td>\n",
       "    </tr>\n",
       "    <tr>\n",
       "      <th>2481</th>\n",
       "      <td>0</td>\n",
       "      <td>0</td>\n",
       "      <td>1</td>\n",
       "      <td>1</td>\n",
       "      <td>0</td>\n",
       "      <td>0</td>\n",
       "      <td>1</td>\n",
       "      <td>0</td>\n",
       "      <td>1</td>\n",
       "      <td>1</td>\n",
       "      <td>...</td>\n",
       "      <td>0</td>\n",
       "      <td>0</td>\n",
       "      <td>0</td>\n",
       "      <td>0</td>\n",
       "      <td>0</td>\n",
       "      <td>0</td>\n",
       "      <td>0</td>\n",
       "      <td>0</td>\n",
       "      <td>0</td>\n",
       "      <td>0.064204</td>\n",
       "    </tr>\n",
       "    <tr>\n",
       "      <th>4047</th>\n",
       "      <td>0</td>\n",
       "      <td>0</td>\n",
       "      <td>1</td>\n",
       "      <td>1</td>\n",
       "      <td>0</td>\n",
       "      <td>0</td>\n",
       "      <td>1</td>\n",
       "      <td>0</td>\n",
       "      <td>1</td>\n",
       "      <td>1</td>\n",
       "      <td>...</td>\n",
       "      <td>0</td>\n",
       "      <td>1</td>\n",
       "      <td>1</td>\n",
       "      <td>0</td>\n",
       "      <td>0</td>\n",
       "      <td>0</td>\n",
       "      <td>1</td>\n",
       "      <td>0</td>\n",
       "      <td>0</td>\n",
       "      <td>0.264168</td>\n",
       "    </tr>\n",
       "    <tr>\n",
       "      <th>6432</th>\n",
       "      <td>1</td>\n",
       "      <td>0</td>\n",
       "      <td>0</td>\n",
       "      <td>1</td>\n",
       "      <td>0</td>\n",
       "      <td>0</td>\n",
       "      <td>1</td>\n",
       "      <td>0</td>\n",
       "      <td>1</td>\n",
       "      <td>0</td>\n",
       "      <td>...</td>\n",
       "      <td>1</td>\n",
       "      <td>0</td>\n",
       "      <td>1</td>\n",
       "      <td>0</td>\n",
       "      <td>0</td>\n",
       "      <td>1</td>\n",
       "      <td>0</td>\n",
       "      <td>0</td>\n",
       "      <td>1</td>\n",
       "      <td>0.224485</td>\n",
       "    </tr>\n",
       "    <tr>\n",
       "      <th>26584</th>\n",
       "      <td>0</td>\n",
       "      <td>1</td>\n",
       "      <td>0</td>\n",
       "      <td>1</td>\n",
       "      <td>0</td>\n",
       "      <td>0</td>\n",
       "      <td>1</td>\n",
       "      <td>0</td>\n",
       "      <td>1</td>\n",
       "      <td>1</td>\n",
       "      <td>...</td>\n",
       "      <td>1</td>\n",
       "      <td>0</td>\n",
       "      <td>1</td>\n",
       "      <td>0</td>\n",
       "      <td>0</td>\n",
       "      <td>0</td>\n",
       "      <td>0</td>\n",
       "      <td>0</td>\n",
       "      <td>0</td>\n",
       "      <td>0.037171</td>\n",
       "    </tr>\n",
       "  </tbody>\n",
       "</table>\n",
       "<p>20030 rows × 71 columns</p>\n",
       "</div>"
      ],
      "text/plain": [
       "       h1n1_worry_1.0  h1n1_worry_2.0  h1n1_worry_3.0  h1n1_awareness_1.0  \\\n",
       "9353                1               0               0                   1   \n",
       "6317                0               1               0                   1   \n",
       "13542               0               1               0                   1   \n",
       "23986               0               1               0                   0   \n",
       "16025               1               0               0                   0   \n",
       "...               ...             ...             ...                 ...   \n",
       "24938               0               0               0                   0   \n",
       "2481                0               0               1                   1   \n",
       "4047                0               0               1                   1   \n",
       "6432                1               0               0                   1   \n",
       "26584               0               1               0                   1   \n",
       "\n",
       "       h1n1_awareness_2.0  antiviral_medication_1.0  contact_avoidance_1.0  \\\n",
       "9353                    0                         0                      1   \n",
       "6317                    0                         0                      1   \n",
       "13542                   0                         0                      0   \n",
       "23986                   1                         0                      1   \n",
       "16025                   1                         1                      1   \n",
       "...                   ...                       ...                    ...   \n",
       "24938                   1                         0                      1   \n",
       "2481                    0                         0                      1   \n",
       "4047                    0                         0                      1   \n",
       "6432                    0                         0                      1   \n",
       "26584                   0                         0                      1   \n",
       "\n",
       "       bought_face_mask_1.0  wash_hands_frequently_1.0  \\\n",
       "9353                      0                          1   \n",
       "6317                      0                          1   \n",
       "13542                     0                          1   \n",
       "23986                     0                          1   \n",
       "16025                     0                          1   \n",
       "...                     ...                        ...   \n",
       "24938                     0                          1   \n",
       "2481                      0                          1   \n",
       "4047                      0                          1   \n",
       "6432                      0                          1   \n",
       "26584                     0                          1   \n",
       "\n",
       "       avoid_large_gatherings_1.0  ...  census_msa_MSA, Principle City  \\\n",
       "9353                            1  ...                               0   \n",
       "6317                            0  ...                               1   \n",
       "13542                           1  ...                               0   \n",
       "23986                           1  ...                               0   \n",
       "16025                           1  ...                               1   \n",
       "...                           ...  ...                             ...   \n",
       "24938                           0  ...                               0   \n",
       "2481                            1  ...                               0   \n",
       "4047                            1  ...                               0   \n",
       "6432                            0  ...                               1   \n",
       "26584                           1  ...                               1   \n",
       "\n",
       "       census_msa_Non-MSA  no_of_adults_1.0  no_of_adults_2.0  \\\n",
       "9353                    0                 1                 0   \n",
       "6317                    0                 1                 0   \n",
       "13542                   1                 0                 0   \n",
       "23986                   0                 0                 0   \n",
       "16025                   0                 1                 0   \n",
       "...                   ...               ...               ...   \n",
       "24938                   1                 0                 0   \n",
       "2481                    0                 0                 0   \n",
       "4047                    1                 1                 0   \n",
       "6432                    0                 1                 0   \n",
       "26584                   0                 1                 0   \n",
       "\n",
       "       no_of_adults_3.0  no_of_children_1.0  no_of_children_2.0  \\\n",
       "9353                  0                   0                   0   \n",
       "6317                  0                   0                   0   \n",
       "13542                 0                   0                   0   \n",
       "23986                 0                   0                   0   \n",
       "16025                 0                   0                   0   \n",
       "...                 ...                 ...                 ...   \n",
       "24938                 1                   1                   0   \n",
       "2481                  0                   0                   0   \n",
       "4047                  0                   0                   1   \n",
       "6432                  0                   1                   0   \n",
       "26584                 0                   0                   0   \n",
       "\n",
       "       no_of_children_3.0  Actual_Default  Prob_Default  \n",
       "9353                    0               0      0.054695  \n",
       "6317                    0               0      0.034225  \n",
       "13542                   0               0      0.595244  \n",
       "23986                   0               0      0.011143  \n",
       "16025                   0               1      0.200048  \n",
       "...                   ...             ...           ...  \n",
       "24938                   0               0      0.036251  \n",
       "2481                    0               0      0.064204  \n",
       "4047                    0               0      0.264168  \n",
       "6432                    0               1      0.224485  \n",
       "26584                   0               0      0.037171  \n",
       "\n",
       "[20030 rows x 71 columns]"
      ]
     },
     "execution_count": 72,
     "metadata": {},
     "output_type": "execute_result"
    }
   ],
   "source": [
    "x_train1=x_train.copy()\n",
    "\n",
    "x_train1[\"Actual_Default\"]=y_train\n",
    "x_train1[\"Prob_Default\"]=log.predict_proba(x_train)[:, 1]\n",
    "\n",
    "x_train1"
   ]
  },
  {
   "cell_type": "code",
   "execution_count": 73,
   "id": "9b900971",
   "metadata": {},
   "outputs": [],
   "source": [
    "def profile_decile(X,y,trained_model):\n",
    "    X_1=X.copy()\n",
    "    y_1=y.copy()\n",
    "    y_pred1=trained_model.predict(X_1)\n",
    "    X_1[\"Prob_Event\"]=trained_model.predict_proba(X_1)[:,1]\n",
    "    X_1[\"Y_actual\"]=y_1\n",
    "    X_1[\"Y_pred\"]=y_pred1\n",
    "    X_1[\"Rank\"]=pd.qcut(X_1[\"Prob_Event\"], 10, labels=np.arange(0,10,1))\n",
    "    X_1[\"numb\"]=10\n",
    "    X_1[\"Decile\"]=X_1[\"numb\"]-X_1[\"Rank\"].astype(\"int\")\n",
    "    \n",
    "    profile=pd.DataFrame(X_1.groupby(\"Decile\") \\\n",
    "                        .apply(lambda x: pd.Series({\n",
    "        'min_score'   : x[\"Prob_Event\"].min(),\n",
    "        'max_score'   : x[\"Prob_Event\"].max(),\n",
    "        'Event'       : x[\"Y_actual\"].sum(),\n",
    "        'Non_event'   : x[\"Y_actual\"].count()-x[\"Y_actual\"].sum(),\n",
    "        'Total'       : x[\"Y_actual\"].count() })))\n",
    "    return profile"
   ]
  },
  {
   "cell_type": "code",
   "execution_count": 74,
   "id": "9c406f50",
   "metadata": {},
   "outputs": [
    {
     "data": {
      "text/html": [
       "<div>\n",
       "<style scoped>\n",
       "    .dataframe tbody tr th:only-of-type {\n",
       "        vertical-align: middle;\n",
       "    }\n",
       "\n",
       "    .dataframe tbody tr th {\n",
       "        vertical-align: top;\n",
       "    }\n",
       "\n",
       "    .dataframe thead th {\n",
       "        text-align: right;\n",
       "    }\n",
       "</style>\n",
       "<table border=\"1\" class=\"dataframe\">\n",
       "  <thead>\n",
       "    <tr style=\"text-align: right;\">\n",
       "      <th></th>\n",
       "      <th>Pred_0</th>\n",
       "      <th>Pred_1</th>\n",
       "    </tr>\n",
       "  </thead>\n",
       "  <tbody>\n",
       "    <tr>\n",
       "      <th>Act_0</th>\n",
       "      <td>12965</td>\n",
       "      <td>2839</td>\n",
       "    </tr>\n",
       "    <tr>\n",
       "      <th>Act_1</th>\n",
       "      <td>1056</td>\n",
       "      <td>3170</td>\n",
       "    </tr>\n",
       "  </tbody>\n",
       "</table>\n",
       "</div>"
      ],
      "text/plain": [
       "       Pred_0  Pred_1\n",
       "Act_0   12965    2839\n",
       "Act_1    1056    3170"
      ]
     },
     "execution_count": 74,
     "metadata": {},
     "output_type": "execute_result"
    }
   ],
   "source": [
    "newtrain_pred=np.where(log.predict_proba(x_train)[:,1] > 0.232280104, 1, 0) # based on KS value\n",
    "cnfNewTrain=pd.DataFrame(metrics.confusion_matrix(y_train , newtrain_pred), columns=[\"Pred_0\", \"Pred_1\"],\n",
    "                index=[\"Act_0\", \"Act_1\"])\n",
    "cnfNewTrain"
   ]
  },
  {
   "cell_type": "code",
   "execution_count": 75,
   "id": "b37062d1",
   "metadata": {},
   "outputs": [
    {
     "name": "stdout",
     "output_type": "stream",
     "text": [
      "              precision    recall  f1-score   support\n",
      "\n",
      "           0       0.92      0.82      0.87     15804\n",
      "           1       0.53      0.75      0.62      4226\n",
      "\n",
      "    accuracy                           0.81     20030\n",
      "   macro avg       0.73      0.79      0.74     20030\n",
      "weighted avg       0.84      0.81      0.82     20030\n",
      "\n"
     ]
    }
   ],
   "source": [
    "print(metrics.classification_report(y_train , newtrain_pred))"
   ]
  },
  {
   "cell_type": "code",
   "execution_count": 76,
   "id": "9b05eff5",
   "metadata": {},
   "outputs": [
    {
     "data": {
      "text/html": [
       "<div>\n",
       "<style scoped>\n",
       "    .dataframe tbody tr th:only-of-type {\n",
       "        vertical-align: middle;\n",
       "    }\n",
       "\n",
       "    .dataframe tbody tr th {\n",
       "        vertical-align: top;\n",
       "    }\n",
       "\n",
       "    .dataframe thead th {\n",
       "        text-align: right;\n",
       "    }\n",
       "</style>\n",
       "<table border=\"1\" class=\"dataframe\">\n",
       "  <thead>\n",
       "    <tr style=\"text-align: right;\">\n",
       "      <th></th>\n",
       "      <th>Pred_0</th>\n",
       "      <th>Pred_1</th>\n",
       "    </tr>\n",
       "  </thead>\n",
       "  <tbody>\n",
       "    <tr>\n",
       "      <th>Act_0</th>\n",
       "      <td>4272</td>\n",
       "      <td>957</td>\n",
       "    </tr>\n",
       "    <tr>\n",
       "      <th>Act_1</th>\n",
       "      <td>402</td>\n",
       "      <td>1046</td>\n",
       "    </tr>\n",
       "  </tbody>\n",
       "</table>\n",
       "</div>"
      ],
      "text/plain": [
       "       Pred_0  Pred_1\n",
       "Act_0    4272     957\n",
       "Act_1     402    1046"
      ]
     },
     "execution_count": 76,
     "metadata": {},
     "output_type": "execute_result"
    }
   ],
   "source": [
    "newtest_pred=np.where(log.predict_proba(x_test)[:,1] > 0.229209326, 1, 0) # based on KS value\n",
    "cnfNewTest=pd.DataFrame(metrics.confusion_matrix(y_test , newtest_pred), columns=[\"Pred_0\", \"Pred_1\"],\n",
    "                index=[\"Act_0\", \"Act_1\"])\n",
    "cnfNewTest"
   ]
  },
  {
   "cell_type": "code",
   "execution_count": 77,
   "id": "4b2d7f2c",
   "metadata": {},
   "outputs": [
    {
     "name": "stdout",
     "output_type": "stream",
     "text": [
      "              precision    recall  f1-score   support\n",
      "\n",
      "           0       0.91      0.82      0.86      5229\n",
      "           1       0.52      0.72      0.61      1448\n",
      "\n",
      "    accuracy                           0.80      6677\n",
      "   macro avg       0.72      0.77      0.73      6677\n",
      "weighted avg       0.83      0.80      0.81      6677\n",
      "\n"
     ]
    }
   ],
   "source": [
    "print(metrics.classification_report(y_test , newtest_pred))"
   ]
  },
  {
   "cell_type": "code",
   "execution_count": 78,
   "id": "28875460",
   "metadata": {},
   "outputs": [
    {
     "data": {
      "image/png": "[encoded data removed]",
      "text/plain": [
       "<Figure size 432x288 with 1 Axes>"
      ]
     },
     "metadata": {
      "needs_background": "light"
     },
     "output_type": "display_data"
    }
   ],
   "source": [
    "probs=log.predict_proba(x_train)[:,1]\n",
    "\n",
    "fpr, tpr, threshold=metrics.roc_curve(y_train,probs )\n",
    "plt.plot([0,1],[0,1],'k--')\n",
    "plt.plot(fpr,tpr, label='logistic')\n",
    "plt.xlabel('fpr')\n",
    "plt.ylabel('tpr')\n",
    "plt.show()"
   ]
  },
  {
   "cell_type": "code",
   "execution_count": 79,
   "id": "d4887d0f",
   "metadata": {},
   "outputs": [
    {
     "data": {
      "text/plain": [
       "0.8646604470787018"
      ]
     },
     "execution_count": 79,
     "metadata": {},
     "output_type": "execute_result"
    }
   ],
   "source": [
    "metrics.roc_auc_score(y_train,probs)"
   ]
  },
  {
   "cell_type": "code",
   "execution_count": 80,
   "id": "06070147",
   "metadata": {},
   "outputs": [
    {
     "name": "stderr",
     "output_type": "stream",
     "text": [
      "<ipython-input-80-2e07f48b8601>:10: FutureWarning: The frame.append method is deprecated and will be removed from pandas in a future version. Use pandas.concat instead.\n",
      "  model_logR_report = model_report.append(tmp, ignore_index = True)\n"
     ]
    },
    {
     "data": {
      "text/html": [
       "<div>\n",
       "<style scoped>\n",
       "    .dataframe tbody tr th:only-of-type {\n",
       "        vertical-align: middle;\n",
       "    }\n",
       "\n",
       "    .dataframe tbody tr th {\n",
       "        vertical-align: top;\n",
       "    }\n",
       "\n",
       "    .dataframe thead th {\n",
       "        text-align: right;\n",
       "    }\n",
       "</style>\n",
       "<table border=\"1\" class=\"dataframe\">\n",
       "  <thead>\n",
       "    <tr style=\"text-align: right;\">\n",
       "      <th></th>\n",
       "      <th>Model</th>\n",
       "      <th>ROC Score</th>\n",
       "      <th>Precision Score</th>\n",
       "      <th>Recall Score</th>\n",
       "      <th>F1 Score</th>\n",
       "      <th>Accuracy Score</th>\n",
       "    </tr>\n",
       "  </thead>\n",
       "  <tbody>\n",
       "    <tr>\n",
       "      <th>0</th>\n",
       "      <td>Logical Regression</td>\n",
       "      <td>0.769679</td>\n",
       "      <td>0.522217</td>\n",
       "      <td>0.722376</td>\n",
       "      <td>0.606201</td>\n",
       "      <td>0.796465</td>\n",
       "    </tr>\n",
       "  </tbody>\n",
       "</table>\n",
       "</div>"
      ],
      "text/plain": [
       "                  Model  ROC Score  Precision Score  Recall Score  F1 Score  \\\n",
       "0   Logical Regression    0.769679         0.522217      0.722376  0.606201   \n",
       "\n",
       "   Accuracy Score  \n",
       "0        0.796465  "
      ]
     },
     "execution_count": 80,
     "metadata": {},
     "output_type": "execute_result"
    }
   ],
   "source": [
    "model_report = pd.DataFrame()\n",
    "\n",
    "tmp = pd.Series({'Model': \" Logical Regression \",\n",
    "                 'ROC Score' : metrics.roc_auc_score(y_test, newtest_pred),\n",
    "                 'Precision Score': metrics.precision_score(y_test, newtest_pred),\n",
    "                 'Recall Score': metrics.recall_score(y_test, newtest_pred),\n",
    "                 'F1 Score' : metrics.f1_score(y_test, newtest_pred),\n",
    "                 'Accuracy Score': metrics.accuracy_score(y_test, newtest_pred)})\n",
    "\n",
    "model_logR_report = model_report.append(tmp, ignore_index = True)\n",
    "model_logR_report"
   ]
  },
  {
   "cell_type": "code",
   "execution_count": null,
   "id": "eb20a3c3",
   "metadata": {},
   "outputs": [],
   "source": []
  }
 ],
 "metadata": {
  "kernelspec": {
   "display_name": "Python 3",
   "language": "python",
   "name": "python3"
  },
  "language_info": {
   "codemirror_mode": {
    "name": "ipython",
    "version": 3
   },
   "file_extension": ".py",
   "mimetype": "text/x-python",
   "name": "python",
   "nbconvert_exporter": "python",
   "pygments_lexer": "ipython3",
   "version": "3.8.13"
  }
 },
 "nbformat": 4,
 "nbformat_minor": 5
}
